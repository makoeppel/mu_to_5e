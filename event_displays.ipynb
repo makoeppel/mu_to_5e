{
 "cells": [
  {
   "cell_type": "code",
   "execution_count": 1,
   "metadata": {},
   "outputs": [],
   "source": [
    "%load_ext autoreload\n",
    "%autoreload 2"
   ]
  },
  {
   "cell_type": "code",
   "execution_count": 2,
   "metadata": {},
   "outputs": [
    {
     "name": "stderr",
     "output_type": "stream",
     "text": [
      "2023-12-07 11:32:28.339551: I tensorflow/core/platform/cpu_feature_guard.cc:193] This TensorFlow binary is optimized with oneAPI Deep Neural Network Library (oneDNN) to use the following CPU instructions in performance-critical operations:  AVX2 AVX512F AVX512_VNNI FMA\n",
      "To enable them in other operations, rebuild TensorFlow with the appropriate compiler flags.\n"
     ]
    }
   ],
   "source": [
    "import numpy as np\n",
    "import matplotlib.pyplot as plt\n",
    "\n",
    "from particle import literals as lp # --> MeV units\n",
    "import hepunits as u # converting to GeV\n",
    "\n",
    "from Mu3e import fastmc as fm\n",
    "from Mu3e import mudecays\n",
    "from Mu3e import plot_tools as pt\n",
    "\n",
    "import dill as pickle\n",
    "\n",
    "from DarkNews import Cfourvec as Cfv"
   ]
  },
  {
   "cell_type": "code",
   "execution_count": 138,
   "metadata": {},
   "outputs": [],
   "source": [
    "mu1e2nu = pickle.load(open(\"Jun_27_mu1e2nu.pkl\", \"rb\"))\n",
    "mu3e2nu = pickle.load(open(\"Jun_27_mu3e2nu.pkl\", \"rb\"))\n",
    "mu5e2nu = pickle.load(open(\"Jun_27_mu5e2nu.pkl\", \"rb\"))\n",
    "mu5e = pickle.load(open(\"Jun_27_mu5e.pkl\", \"rb\"))"
   ]
  },
  {
   "attachments": {},
   "cell_type": "markdown",
   "metadata": {},
   "source": [
    "# Event displays"
   ]
  },
  {
   "cell_type": "code",
   "execution_count": 109,
   "metadata": {},
   "outputs": [
    {
     "data": {
      "image/png": "[encoded data removed]",
      "text/plain": [
       "<Figure size 1050x350 with 1 Axes>"
      ]
     },
     "metadata": {},
     "output_type": "display_data"
    }
   ],
   "source": [
    "anim1_3e = pt.EventDraw(mu3e2nu, np.argsort(mu3e2nu.n_short_tracks)[-10:][3], draw_momentum=False, animate=True, density=mu5e, plane='zy', tot_time=4e-9)\n",
    "# anim2 = pt.EventDraw(mu5e, np.argsort(mu5e.n_long_tracks)[6], draw_momentum = False, animate = True, density=mu5e)\n",
    "# anim3 = pt.EventDraw(mu5e, np.argsort(mu5e.n_long_tracks)[-5:][2], draw_momentum = False, animate = True, density=mu5e)\n",
    "# anim4 = pt.EventDraw(mu5e, np.argsort(mu5e.n_long_tracks)[-5:][4], draw_momentum = False, animate = True, density=mu5e)\n",
    "\n",
    "# pt.EventDraw(mu3e2nu, np.argmax(mu3e2nu.n_long_tracks), draw_momentum = False, animate = False, density=mu5e)\n",
    "# fig, ax = pt.EventDraw(mu5e, np.argsort(mu5e.n_short_tracks)[-6:][5], draw_momentum = False, animate = False, plane='xy',tot_time=1.8e-9)\n",
    "# fig, ax = pt.EventDraw(mu3e2nu, np.argsort(mu3e2nu.n_long_tracks)[-5:][0], draw_momentum = False, animate = False, plane='zy', tot_time=2e-9)\n",
    "# pt.EventDraw(mu1e2nu, np.argmax(mu1e2nu.n_long_tracks), draw_momentum = False, animate = False, density=mu5e)\n",
    "# pt.EventDraw(mu1e2nu, np.argmax(mu1e2nu.n_long_tracks), draw_momentum = False, animate = False, density=mu5e)\n",
    "\n",
    "# fig.savefig(\"plots/exmple_new_helix.pdf\", bbox_inches = \"tight\")"
   ]
  },
  {
   "cell_type": "code",
   "execution_count": 137,
   "metadata": {},
   "outputs": [
    {
     "data": {
      "image/png": "[encoded data removed]",
      "text/plain": [
       "<Figure size 444x377.872 with 1 Axes>"
      ]
     },
     "metadata": {},
     "output_type": "display_data"
    }
   ],
   "source": [
    "x = np.linspace(-100, 100)\n",
    "from Mu3e import fastmc\n",
    "\n",
    "events, w = fastmc.get_decay_positions_in_target(100000)\n",
    "\n",
    "_ = plt.hist(events[:,2], weights=w, bins = 100)\n",
    "\n"
   ]
  },
  {
   "cell_type": "code",
   "execution_count": 110,
   "metadata": {},
   "outputs": [],
   "source": [
    "# anim1.save('plots/animation1_zy.gif', fps=40, dpi=300)\n",
    "# anim2.save('plots/animation2.gif', fps=40, dpi=300)\n",
    "# anim3.save('plots/animation3.gif', fps=40, dpi=300)\n",
    "# anim4.save('plots/animation4.gif', fps=40, dpi=300)\n",
    "anim1_3e.save('plots/animation1_3e_zy.gif', fps=40, dpi=300)"
   ]
  },
  {
   "cell_type": "markdown",
   "metadata": {},
   "source": [
    "# Longitudinal view"
   ]
  },
  {
   "cell_type": "code",
   "execution_count": 130,
   "metadata": {},
   "outputs": [
    {
     "ename": "AttributeError",
     "evalue": "module 'Mu3e.plot_tools' has no attribute 'draw_helix'",
     "output_type": "error",
     "traceback": [
      "\u001b[0;31m---------------------------------------------------------------------------\u001b[0m",
      "\u001b[0;31mAttributeError\u001b[0m                            Traceback (most recent call last)",
      "\u001b[1;32m/Users/matheushostert/Repos/mu_to_5e/plot_event_displays.ipynb Cell 8\u001b[0m line \u001b[0;36m1\n\u001b[0;32m----> <a href='vscode-notebook-cell:/Users/matheushostert/Repos/mu_to_5e/plot_event_displays.ipynb#X10sZmlsZQ%3D%3D?line=0'>1</a>\u001b[0m z_e_plus_0, y_e_plus_0   \u001b[39m=\u001b[39m pt\u001b[39m.\u001b[39;49mdraw_helix(mu5e\u001b[39m.\u001b[39mparticles[\u001b[39m'\u001b[39m\u001b[39me+_0\u001b[39m\u001b[39m'\u001b[39m][\u001b[39m5\u001b[39m]\u001b[39m*\u001b[39m\u001b[39m1e-3\u001b[39m, q \u001b[39m=\u001b[39m \u001b[39m1\u001b[39m)\n\u001b[1;32m      <a href='vscode-notebook-cell:/Users/matheushostert/Repos/mu_to_5e/plot_event_displays.ipynb#X10sZmlsZQ%3D%3D?line=1'>2</a>\u001b[0m z_e_plus_1, y_e_plus_1   \u001b[39m=\u001b[39m pt\u001b[39m.\u001b[39mdraw_helix(mu5e\u001b[39m.\u001b[39mparticles[\u001b[39m'\u001b[39m\u001b[39me+_1\u001b[39m\u001b[39m'\u001b[39m][\u001b[39m5\u001b[39m]\u001b[39m*\u001b[39m\u001b[39m1e-3\u001b[39m, q \u001b[39m=\u001b[39m \u001b[39m1\u001b[39m)\n\u001b[1;32m      <a href='vscode-notebook-cell:/Users/matheushostert/Repos/mu_to_5e/plot_event_displays.ipynb#X10sZmlsZQ%3D%3D?line=2'>3</a>\u001b[0m z_e_plus_2, y_e_plus_2   \u001b[39m=\u001b[39m pt\u001b[39m.\u001b[39mdraw_helix(mu5e\u001b[39m.\u001b[39mparticles[\u001b[39m'\u001b[39m\u001b[39me+_2\u001b[39m\u001b[39m'\u001b[39m][\u001b[39m5\u001b[39m]\u001b[39m*\u001b[39m\u001b[39m1e-3\u001b[39m, q \u001b[39m=\u001b[39m \u001b[39m1\u001b[39m)\n",
      "\u001b[0;31mAttributeError\u001b[0m: module 'Mu3e.plot_tools' has no attribute 'draw_helix'"
     ]
    }
   ],
   "source": [
    "z_e_plus_0, y_e_plus_0   = pt.draw_helix(mu5e.particles['e+_0'][5]*1e-3, q = 1)\n",
    "z_e_plus_1, y_e_plus_1   = pt.draw_helix(mu5e.particles['e+_1'][5]*1e-3, q = 1)\n",
    "z_e_plus_2, y_e_plus_2   = pt.draw_helix(mu5e.particles['e+_2'][5]*1e-3, q = 1)\n",
    "z_e_minus_1, y_e_minus_1 = pt.draw_helix(mu5e.particles['e-_1'][5]*1e-3, q = -1)\n",
    "z_e_minus_2, y_e_minus_2 = pt.draw_helix(mu5e.particles['e-_2'][5]*1e-3, q = -1)\n",
    "\n",
    "fig, ax = plt.subplots(1,1, figsize = (16, 3.5))\n",
    "\n",
    "pt.XZ_geometry(ax, color='darkgrey', alpha=1)\n",
    "\n",
    "# Plot the event\n",
    "electron_color = (0.85, 0.39, 0.14)\n",
    "positron_color = (0.16, 0.37, 0.65)\n",
    "ax.plot(z_e_plus_0, y_e_plus_0, lw = 1.0, c = positron_color)\n",
    "ax.plot(z_e_plus_1, y_e_plus_1, lw = 1.0, c = positron_color)\n",
    "# ax.plot(z_e_plus_2, y_e_plus_2, lw = 1.0, c = positron_color)\n",
    "ax.plot(z_e_minus_1, y_e_minus_1, lw = 1.0, c = electron_color)\n",
    "# ax.plot(z_e_minus_2, y_e_minus_2, lw = 1.0, c = electron_color)\n",
    "\n",
    "ax.plot([], [], label=r\"$e^-$\", color=electron_color, lw=1, ls=\"-\")\n",
    "ax.plot([], [], label=r\"$e^+$\", color=positron_color, lw=1, ls=\"-\")\n",
    "\n",
    "ax.set_xlim(-800, 800)\n",
    "ax.set_ylim(-150, 150)\n",
    "\n",
    "# Styling\n",
    "ax_colors = \"#CFCFCF\"\n",
    "ax.spines[[\"left\", \"bottom\"]].set_position(\"center\")\n",
    "ax.spines[[\"left\", \"bottom\"]].set_edgecolor(ax_colors)\n",
    "ax.spines[[\"left\", \"bottom\"]].set_zorder(-1)\n",
    "ax.spines[[\"top\", \"right\"]].set_visible(False)\n",
    "\n",
    "ax.set_xticks([-800, -600, -400, -200, 200, 400, 600, 800])\n",
    "ax.set_yticks([-150, -100, -50, 50, 100, 150])\n",
    "\n",
    "ax.set_xticklabels(\n",
    "        [r'$-800$', \"\", r'$-400$', \"\", \"\", r'$400$', \"\", r'$800$'], fontsize=10, color=ax_colors, zorder=-1\n",
    "    )\n",
    "ax.set_yticklabels(\n",
    "        [r'$-150$', \"\", r'$-50$', r'$50$', \"\", r'$150$'], fontsize=10, color=ax_colors, zorder=-1\n",
    "    )\n",
    "ax.tick_params(axis=\"x\", colors=ax_colors, direction=\"inout\", length=3, zorder=-1)\n",
    "ax.tick_params(axis=\"y\", colors=ax_colors, direction=\"inout\", length=3, zorder=-1)\n",
    "\n",
    "ax.scatter(\n",
    "        0,\n",
    "        ax.get_ylim()[1],\n",
    "        marker=10,\n",
    "        color=ax_colors,\n",
    "        linewidth=0.0,\n",
    "        clip_on=False,\n",
    "        zorder=-1,\n",
    "    )\n",
    "ax.scatter(\n",
    "        ax.get_xlim()[1],\n",
    "        0,\n",
    "        marker=9,\n",
    "        color=ax_colors,\n",
    "        linewidth=0.0,\n",
    "        clip_on=False,\n",
    "        zorder=-1,\n",
    "    )\n",
    "\n",
    "ax.text(\n",
    "        1.02,\n",
    "        0.53,\n",
    "        r\"$z\\mathrm{/mm}$\",\n",
    "        fontsize=10,\n",
    "        color=ax_colors,\n",
    "        transform=ax.transAxes,\n",
    "        ha=\"left\",\n",
    "        va=\"bottom\",\n",
    "        zorder=-1,\n",
    "    )\n",
    "ax.text(\n",
    "        0.53,\n",
    "        1.02,\n",
    "        r\"$y\\mathrm{/mm}$\",\n",
    "        fontsize=10,\n",
    "        color=ax_colors,\n",
    "        transform=ax.transAxes,\n",
    "        ha=\"left\",\n",
    "        va=\"bottom\",\n",
    "        zorder=-1,\n",
    "    )\n",
    "\n",
    "\n",
    "target_coordinates = [(0, 19), (50, 0), (0, -19), (-50, 0)]\n",
    "\n",
    "ax.legend(frameon = False)\n",
    "\n",
    "\n",
    "ax.add_patch(\n",
    "    plt.Polygon(target_coordinates, color ='black',\n",
    "                alpha = 0.2)\n",
    "    )\n",
    "\n",
    "fig.tight_layout()\n",
    "fig.savefig(r'plots/longitudinal_event_display.pdf', dpi = 300, pad_inches = .1, bbox_inches = 'tight')"
   ]
  },
  {
   "cell_type": "code",
   "execution_count": null,
   "metadata": {},
   "outputs": [],
   "source": []
  }
 ],
 "metadata": {
  "kernelspec": {
   "display_name": "py39",
   "language": "python",
   "name": "python3"
  },
  "language_info": {
   "codemirror_mode": {
    "name": "ipython",
    "version": 3
   },
   "file_extension": ".py",
   "mimetype": "text/x-python",
   "name": "python",
   "nbconvert_exporter": "python",
   "pygments_lexer": "ipython3",
   "version": "3.9.15"
  },
  "orig_nbformat": 4
 },
 "nbformat": 4,
 "nbformat_minor": 2
}
