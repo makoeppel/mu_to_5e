{
 "cells": [
  {
   "cell_type": "code",
   "execution_count": 3,
   "metadata": {},
   "outputs": [
    {
     "name": "stdout",
     "output_type": "stream",
     "text": [
      "The autoreload extension is already loaded. To reload it, use:\n",
      "  %reload_ext autoreload\n"
     ]
    }
   ],
   "source": [
    "%load_ext autoreload\n",
    "%autoreload 2"
   ]
  },
  {
   "cell_type": "code",
   "execution_count": 17,
   "metadata": {},
   "outputs": [],
   "source": [
    "from pymule import *\n",
    "\n",
    "import pymule as pm\n",
    "import numpy as np\n",
    "import DarkNews as dn\n",
    "import matplotlib.pyplot as plt"
   ]
  },
  {
   "cell_type": "code",
   "execution_count": 22,
   "metadata": {},
   "outputs": [],
   "source": [
    "setup(folder='test-mu-e-nunu')"
   ]
  },
  {
   "cell_type": "code",
   "execution_count": 23,
   "metadata": {},
   "outputs": [
    {
     "ename": "FileNotFoundError",
     "evalue": "[Errno 2] No such file or directory: 'test-mu-e-nunu'",
     "output_type": "error",
     "traceback": [
      "\u001b[0;31m---------------------------------------------------------------------------\u001b[0m",
      "\u001b[0;31mFileNotFoundError\u001b[0m                         Traceback (most recent call last)",
      "Cell \u001b[0;32mIn[23], line 1\u001b[0m\n\u001b[0;32m----> 1\u001b[0m LO \u001b[39m=\u001b[39m scaleset(mergefks(sigma(\u001b[39m'\u001b[39;49m\u001b[39mm2enng0\u001b[39;49m\u001b[39m'\u001b[39;49m)), GF\u001b[39m*\u001b[39m\u001b[39m*\u001b[39m\u001b[39m2\u001b[39m\u001b[39m*\u001b[39mlifetime\u001b[39m*\u001b[39malpha)\n",
      "File \u001b[0;32m/usr/local/anaconda3/envs/py39/lib/python3.9/site-packages/pymule/loader.py:411\u001b[0m, in \u001b[0;36msigma\u001b[0;34m(piece, **kwargs)\u001b[0m\n\u001b[1;32m    409\u001b[0m \u001b[39mglobal\u001b[39;00m loadargs\n\u001b[1;32m    410\u001b[0m pat \u001b[39m=\u001b[39m callsanitised(pattern, piece\u001b[39m=\u001b[39mpiece, \u001b[39m*\u001b[39m\u001b[39m*\u001b[39mkwargs)\n\u001b[0;32m--> 411\u001b[0m s \u001b[39m=\u001b[39m callsanitised(importreg, r\u001b[39m=\u001b[39;49mpat, \u001b[39m*\u001b[39;49m\u001b[39m*\u001b[39;49mkwargs)\n\u001b[1;32m    412\u001b[0m \u001b[39mreturn\u001b[39;00m callsanitised(mergeseeds, s\u001b[39m=\u001b[39ms, \u001b[39m*\u001b[39m\u001b[39m*\u001b[39mkwargs)\n",
      "File \u001b[0;32m/usr/local/anaconda3/envs/py39/lib/python3.9/site-packages/pymule/loader.py:336\u001b[0m, in \u001b[0;36mcallsanitised\u001b[0;34m(func, **kwargs)\u001b[0m\n\u001b[1;32m    330\u001b[0m args\u001b[39m.\u001b[39mupdate(kwargs)\n\u001b[1;32m    331\u001b[0m args \u001b[39m=\u001b[39m {\n\u001b[1;32m    332\u001b[0m     i: args[i]\n\u001b[1;32m    333\u001b[0m     \u001b[39mfor\u001b[39;00m i \u001b[39min\u001b[39;00m args\u001b[39m.\u001b[39mkeys()\n\u001b[1;32m    334\u001b[0m     \u001b[39mif\u001b[39;00m i \u001b[39min\u001b[39;00m legal\n\u001b[1;32m    335\u001b[0m }\n\u001b[0;32m--> 336\u001b[0m \u001b[39mreturn\u001b[39;00m func(\u001b[39m*\u001b[39;49m\u001b[39m*\u001b[39;49margs)\n",
      "File \u001b[0;32m/usr/local/anaconda3/envs/py39/lib/python3.9/site-packages/pymule/loader.py:66\u001b[0m, in \u001b[0;36mimportreg\u001b[0;34m(r, folder, filenames, cachefolder, merge, types, sanitycheck)\u001b[0m\n\u001b[1;32m     64\u001b[0m tar \u001b[39m=\u001b[39m \u001b[39mNone\u001b[39;00m\n\u001b[1;32m     65\u001b[0m \u001b[39mif\u001b[39;00m \u001b[39mnot\u001b[39;00m os\u001b[39m.\u001b[39mpath\u001b[39m.\u001b[39misdir(folder):\n\u001b[0;32m---> 66\u001b[0m     full_name \u001b[39m=\u001b[39m os\u001b[39m.\u001b[39mpath\u001b[39m.\u001b[39mjoin(cachefolder, hash_file(folder))\n\u001b[1;32m     67\u001b[0m     \u001b[39mif\u001b[39;00m os\u001b[39m.\u001b[39mpath\u001b[39m.\u001b[39misdir(cachefolder) \u001b[39mand\u001b[39;00m os\u001b[39m.\u001b[39mpath\u001b[39m.\u001b[39misfile(full_name):\n\u001b[1;32m     68\u001b[0m         tar \u001b[39m=\u001b[39m tarfile\u001b[39m.\u001b[39mopen(full_name)\n",
      "File \u001b[0;32m/usr/local/anaconda3/envs/py39/lib/python3.9/site-packages/pymule/loader.py:16\u001b[0m, in \u001b[0;36mhash_file\u001b[0;34m(name)\u001b[0m\n\u001b[1;32m     14\u001b[0m \u001b[39mdef\u001b[39;00m \u001b[39mhash_file\u001b[39m(name):\n\u001b[1;32m     15\u001b[0m     m \u001b[39m=\u001b[39m hashlib\u001b[39m.\u001b[39msha1()\n\u001b[0;32m---> 16\u001b[0m     \u001b[39mwith\u001b[39;00m \u001b[39mopen\u001b[39;49m(name, \u001b[39m'\u001b[39;49m\u001b[39mrb\u001b[39;49m\u001b[39m'\u001b[39;49m) \u001b[39mas\u001b[39;00m fp:\n\u001b[1;32m     17\u001b[0m         \u001b[39mwhile\u001b[39;00m \u001b[39mTrue\u001b[39;00m:\n\u001b[1;32m     18\u001b[0m             data \u001b[39m=\u001b[39m fp\u001b[39m.\u001b[39mread(\u001b[39m65536\u001b[39m)\n",
      "\u001b[0;31mFileNotFoundError\u001b[0m: [Errno 2] No such file or directory: 'test-mu-e-nunu'"
     ]
    }
   ],
   "source": [
    "LO = scaleset(mergefks(sigma('m2enng0')), GF**2*lifetime*alpha)\n"
   ]
  }
 ],
 "metadata": {
  "kernelspec": {
   "display_name": "py39",
   "language": "python",
   "name": "python3"
  },
  "language_info": {
   "codemirror_mode": {
    "name": "ipython",
    "version": 3
   },
   "file_extension": ".py",
   "mimetype": "text/x-python",
   "name": "python",
   "nbconvert_exporter": "python",
   "pygments_lexer": "ipython3",
   "version": "3.9.15"
  },
  "orig_nbformat": 4
 },
 "nbformat": 4,
 "nbformat_minor": 2
}
