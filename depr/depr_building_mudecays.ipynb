{
 "cells": [
  {
   "attachments": {},
   "cell_type": "markdown",
   "metadata": {},
   "source": [
    "## First look into SM muon decays\n",
    "\n",
    "* $\\mu^+ \\to e^+ \\nu_e \\overline{\\nu}_\\mu$\n",
    "* $\\mu^+ \\to e^+ \\nu_e \\overline{\\nu}_\\mu e^+e^-$\n",
    "* $\\mu^+ \\to e^+ \\nu_e \\overline{\\nu}_\\mu e^+e^-e^+e^-$"
   ]
  },
  {
   "cell_type": "code",
   "execution_count": 1,
   "metadata": {},
   "outputs": [],
   "source": [
    "%load_ext autoreload\n",
    "%autoreload 2"
   ]
  },
  {
   "cell_type": "code",
   "execution_count": 2,
   "metadata": {},
   "outputs": [
    {
     "name": "stderr",
     "output_type": "stream",
     "text": [
      "2023-05-05 17:33:57.392779: I tensorflow/core/platform/cpu_feature_guard.cc:193] This TensorFlow binary is optimized with oneAPI Deep Neural Network Library (oneDNN) to use the following CPU instructions in performance-critical operations:  AVX2 AVX512F AVX512_VNNI FMA\n",
      "To enable them in other operations, rebuild TensorFlow with the appropriate compiler flags.\n"
     ]
    }
   ],
   "source": [
    "import sys\n",
    "import numpy as np\n",
    "import matplotlib.pyplot as plt\n",
    "\n",
    "from phasespace import GenParticle\n",
    "\n",
    "from particle import literals as lp # --> MeV units\n",
    "import hepunits as u # converting to GeV"
   ]
  },
  {
   "attachments": {},
   "cell_type": "markdown",
   "metadata": {},
   "source": [
    "### Grabbing amplitude from MadGraph matrix2py modules\n",
    "\n",
    "For example, from within MG, we generate the process without higsses and Z bosons by typying:\n",
    "\n",
    "---\n",
    "```\n",
    "import model sm-lepton_masses\n",
    "generate mu+ > vm~ ve e+ e+ e- e+ e- / z h\n",
    "output standalone ../m5e2nu\n",
    "```\n",
    "---\n",
    "\n",
    "There are still >200 diagrams, but much better than 2000, as before. Note also I need to use the `sm-lepton_masses`, otherwise I get non-sensical results (probably muons are massless in the default one).\n",
    "\n",
    "To generate the python wrapper for the fortan amplitude code, we run `make` from the folder `m5e2nu/SubProcesses`. (I could also chosen to run `make matrix2py.so` from within the folder `P1_mup_vmxveepepemepem_no_zh`, but this seems to work as well).\n",
    "\n",
    "---\n",
    "### Evaluating the amplitude square $|\\mathcal{M}|^2$ \n",
    "\n",
    "Recall that the units of $<|\\mathcal{M}|^2> = {\\rm GeV}^n$, where\n",
    "\n",
    "* $ n = -(2 n_{\\rm ext}-8)$\n",
    "\n",
    "and $n_{\\rm ext}$ is the number of external particles. For $\\mu \\to e \\nu \\nu$, $n = 0$, $\\mu \\to e ee \\nu \\nu$, $n = -4$, and $\\mu \\to e ee ee \\nu \\nu$, $n = -8$.\n",
    "\n",
    "**NOTE**:: MadGraph returns the square of the amplitude after symmetry factors and summed over helicities.\n",
    "\n",
    "**TODO**: I still don't know if it has any phase space density factors... Need to check"
   ]
  },
  {
   "cell_type": "code",
   "execution_count": 3,
   "metadata": {},
   "outputs": [],
   "source": [
    "from Mu3e.mu1e2nu.SubProcesses.P1_mup_vmxveep_no_zh import matrix2py as amp_mu1e2nu\n",
    "amp_mu1e2nu.initialisemodel('mu1e2nu/Cards/param_card.dat')"
   ]
  },
  {
   "cell_type": "code",
   "execution_count": 10,
   "metadata": {},
   "outputs": [],
   "source": [
    "# import the amplitude model from each process:\n",
    "from Mu3e.mu1e2nu.SubProcesses.P1_mup_vmxveep_no_zh import matrix2py as amp_mu1e2nu\n",
    "from Mu3e.mu3e2nu.SubProcesses.P1_mup_vmxveepepem_no_zh import matrix2py as amp_mu3e2nu\n",
    "from Mu3e.mu5e2nu.SubProcesses.P1_mup_vmxveepepemepem_no_zh import matrix2py as amp_mu5e2nu"
   ]
  },
  {
   "cell_type": "code",
   "execution_count": 11,
   "metadata": {},
   "outputs": [],
   "source": [
    "# initialize the models for each one\n",
    "amp_mu1e2nu.initialisemodel('Mu3e/mu1e2nu/Cards/param_card.dat')\n",
    "amp_mu3e2nu.initialisemodel('Mu3e/mu3e2nu/Cards/param_card.dat')\n",
    "amp_mu5e2nu.initialisemodel('Mu3e/mu5e2nu/Cards/param_card.dat')"
   ]
  },
  {
   "attachments": {},
   "cell_type": "markdown",
   "metadata": {},
   "source": [
    "### Some total lifetimes calculated by MadGraph:"
   ]
  },
  {
   "cell_type": "code",
   "execution_count": 12,
   "metadata": {},
   "outputs": [
    {
     "name": "stdout",
     "output_type": "stream",
     "text": [
      "Gamma_tot = 3e-19 GeV, where I(x) = 0.99981\n",
      "$\\mathcal{B}(\\mu^+ \\to \\overline\\nu_\\mu \\nu_e e^+e^+e^-) = (3.9 \\pm 0.014) \\times 10^{-5}$\n",
      "$\\mathcal{B}(\\mu^+ \\to \\overline\\nu_\\mu \\nu_e e^+e^+e^-e^+e^-) = (4.5 \\pm 0.014) \\times 10^{-10}$\n"
     ]
    }
   ],
   "source": [
    "def I(x):\n",
    "    return 1 - 8*x - 12* x**2 * np.log(x) + 8*x**3 - x**4\n",
    "r = (lp.e_minus.mass/lp.mu_minus.mass)**2\n",
    "Gamma_mu = (1.16e-5)**2 * (lp.mu_minus.mass/u.GeV)**5 / (192 * np.pi**3) * I(r)\n",
    "\n",
    "print(f'Gamma_tot = {Gamma_mu:.2g} GeV, where I(x) = {I(r):.5g}')\n",
    "\n",
    "# Results from MadGraph run: \n",
    "\n",
    "# 3e2nu seem ok! -- BR ~ 3.6e-5 # from https://arxiv.org/pdf/1811.10965.pdf\n",
    "BR_mu3e2nu = 1.155e-23/Gamma_mu\n",
    "# 5e2nu -- no known resul in literature, but (alpha/4pi)^4 ~ 1e-13...?\n",
    "BR_mu5e2nu = 1.342e-28/Gamma_mu\n",
    "\n",
    "print(rf'$\\mathcal{{B}}(\\mu^+ \\to \\overline\\nu_\\mu \\nu_e e^+e^+e^-) = ({1.155e-23/Gamma_mu*1e5:.2g} \\pm {4.289e-26/Gamma_mu*1e5:.2g}) \\times 10^{{-5}}$')\n",
    "print(rf'$\\mathcal{{B}}(\\mu^+ \\to \\overline\\nu_\\mu \\nu_e e^+e^+e^-e^+e^-) = ({1.342e-28/Gamma_mu*1e10:.2g} \\pm {4.1e-31/Gamma_mu*1e10:.2g}) \\times 10^{{-10}}$')"
   ]
  },
  {
   "attachments": {},
   "cell_type": "markdown",
   "metadata": {},
   "source": [
    "### Defining a class for the events and amplitude"
   ]
  },
  {
   "cell_type": "code",
   "execution_count": 13,
   "metadata": {},
   "outputs": [],
   "source": [
    "class Process:\n",
    "    \"\"\"Class to store the events generated by `phasespace`\"\"\"\n",
    "    \n",
    "    def __init__(self, particles, weights, wmax=None, amp=None, branching=1.0):\n",
    "        \"\"\"initialize the class and put format the momenta correctly\"\"\"\n",
    "\n",
    "        # output arrays from phasespace's generate(...)\n",
    "        self.particles = particles\n",
    "        self.weights = np.array(weights)\n",
    "        self.wmax = np.array(wmax)\n",
    "\n",
    "        self.branching = branching\n",
    "\n",
    "        # amplitude module (already model initialised) from MG@5\n",
    "        self.amp = amp\n",
    "        self.alphaS = 0.12 # alpha strong -- not relevant for us.\n",
    "        self.nhel = 0 # summ over all helicites -- TODO not sure how to use it in any other way...\n",
    "\n",
    "        self.n_events = len(self.weights)\n",
    "\n",
    "        # list of daughter particles\n",
    "        self.daughter_names = list(self.particles.keys())\n",
    "\n",
    "        # 4-momentum of the parent particle\n",
    "        # self.p_parent = np.zeros_like(self.particles[self.daughter_names[0]])\n",
    "        self.p_parent = np.sum([self.particles[k] for k in self.daughter_names], axis=0)\n",
    "        \n",
    "        self.put_energy_first()\n",
    "        \n",
    "        self.P_grid = self.build_P_grid()        \n",
    "    \n",
    "   \n",
    "    def put_energy_first(self):\n",
    "        # We need to rearrange the arrays so the first enetry is energy, and not px:\n",
    "        # `phasespace` indices: 0 -> px, 1 -> py, 2 -> pz, 3 -> E\n",
    "        # `MadGraph` and `DarkNews` indices: 0 -> E, 1 -> px, 2 -> py, 3 -> pz\n",
    "        # when rearranging, also convert from TensorFlow object to numpy array\n",
    "        for k in self.daughter_names:\n",
    "            self.particles[k] = np.array(self.particles[k])[:,[3,0,1,2]]\n",
    "        self.p_parent = self.p_parent[:,[3,0,1,2]]\n",
    "\n",
    "    def build_P_grid(self):\n",
    "        # dim 0: event number\n",
    "        # dim 1: lorentz index\n",
    "        # dim 2: particle number\n",
    "        \n",
    "        # Ordering --> Parent + daughters(following MadGraph convention)\n",
    "        return np.transpose([self.p_parent] + [self.particles[k] for k in self.daughter_names], axes=(1,2,0) )\n",
    "    \n",
    "    def amp_in_P(self,P):\n",
    "        if self.amp:\n",
    "            return self.amp.get_value(P, self.alphaS, self.nhel)\n",
    "    \n",
    "    def amp_in_Pgrid(self):\n",
    "        if self.amp:\n",
    "            # loops over events and evaluates the amplitude given the list of momenta \n",
    "            self.w_amp = np.array([self.amp.get_value(self.P_grid[i], self.alphaS, self.nhel) for i in range(self.n_events)])\n",
    "            self.w_final = self.w_amp * self.weights * self.branching / np.sum(self.w_amp * self.weights)"
   ]
  },
  {
   "attachments": {},
   "cell_type": "markdown",
   "metadata": {},
   "source": [
    "### Evaluate the amplitude square $|\\mathcal{M}|^2$ for the first event\n",
    "\n",
    "Recall that the units of $|\\mathcal{M}|^2$ are\n",
    "\n",
    "$$ n = {\\rm GeV}^{-(2 n_{\\rm ext}-8)}$$\n",
    "\n",
    "where $n_{\\rm ext}$ is the number of external particles. For $\\mu \\to e \\nu \\nu$, $n = 0$ and $\\mu \\to e ee \\nu \\nu$, $n = -4$.\n",
    "\n",
    "NOTE: MadGraph returns the square of the amplitude after symmetry factors and summed over helicities."
   ]
  },
  {
   "cell_type": "code",
   "execution_count": 14,
   "metadata": {},
   "outputs": [
    {
     "name": "stdout",
     "output_type": "stream",
     "text": [
      "WARNING:tensorflow:5 out of the last 5 calls to <function GenParticle._recursive_generate at 0x17a62a040> triggered tf.function retracing. Tracing is expensive and the excessive number of tracings could be due to (1) creating @tf.function repeatedly in a loop, (2) passing tensors with different shapes, (3) passing Python objects instead of tensors. For (1), please define your @tf.function outside of the loop. For (2), @tf.function has reduce_retracing=True option that can avoid unnecessary retracing. For (3), please refer to https://www.tensorflow.org/guide/function#controlling_retracing and https://www.tensorflow.org/api_docs/python/tf/function for  more details.\n"
     ]
    }
   ],
   "source": [
    "# ------------------------------------------------------\n",
    "# # Defining particles involved \n",
    "MPARENT = lp.mu_minus.mass/u.GeV\n",
    "\n",
    "numubar = GenParticle('nu_mu_bar', 0.0)\n",
    "nue = GenParticle('nu_e', 0.0)\n",
    "\n",
    "positron_0 = GenParticle('e+_0', lp.e_plus.mass/u.GeV)\n",
    "\n",
    "electron_1 = GenParticle('e-_1', lp.e_minus.mass/u.GeV)\n",
    "positron_1 = GenParticle('e+_1', lp.e_plus.mass/u.GeV)\n",
    "\n",
    "electron_2 = GenParticle('e-_2', lp.e_minus.mass/u.GeV)\n",
    "positron_2 = GenParticle('e+_2', lp.e_plus.mass/u.GeV)\n",
    "\n",
    "# ------------------------------------------------------\n",
    "# µ -> ν_mu_bar ν_e e+\n",
    "# !! Watch out for the ordering of the particles (following diagrams in MadGraph)\n",
    "parent_muon_3body = GenParticle('mu+', MPARENT).set_children(\n",
    "                                            numubar,\n",
    "                                            nue,\n",
    "                                            positron_0\n",
    "                                            )\n",
    "\n",
    "# ------------------------------------------------------\n",
    "# µ -> ν_mu_bar ν_e e+ e+ e-\n",
    "# !! Watch out for the ordering of the particles (following diagrams in MadGraph)\n",
    "parent_muon_5body = GenParticle('mu+', MPARENT).set_children(\n",
    "                                            numubar,\n",
    "                                            nue, \n",
    "                                            positron_0, \n",
    "                                            positron_1, \n",
    "                                            electron_1, \n",
    "                                            )\n",
    "\n",
    "# ------------------------------------------------------\n",
    "# µ -> ν_mu_bar ν_e e+ e+ e- e+ e-\n",
    "# !! Watch out for the ordering of the particles (following diagrams in MadGraph)\n",
    "parent_muon_7body = GenParticle('mu+', MPARENT).set_children(\n",
    "                                            numubar,\n",
    "                                            nue, \n",
    "                                            positron_0, \n",
    "                                            positron_1, \n",
    "                                            electron_1, \n",
    "                                            positron_2, \n",
    "                                            electron_2, \n",
    "                                            )\n",
    "\n",
    "# ------------------------------------------------------\n",
    "# Generate the 4 momenta and weights\n",
    "\n",
    "NEVENTS = 1e5\n",
    "\n",
    "_weights, _wmax,  _particles = parent_muon_3body.generate(n_events=NEVENTS, normalize_weights=False)\n",
    "m_e2nu = Process(_particles, _weights, wmax=_wmax, amp=amp_mue2nu, branching = 1)\n",
    "\n",
    "# Generate the 4 momenta and weights\n",
    "_weights, _wmax,  _particles = parent_muon_5body.generate(n_events=NEVENTS, normalize_weights=False)\n",
    "m_3e2nu = Process(_particles, _weights, wmax=_wmax, amp=amp_mu3e2nu, branching = BR_mu3e2nu)\n",
    "\n",
    "# Generate the 4 momenta and weights\n",
    "_weights, _wmax,  _particles = parent_muon_7body.generate(n_events=NEVENTS, normalize_weights=False)\n",
    "m_5e2nu = Process(_particles, _weights, wmax=_wmax, amp=amp_mu5e2nu, branching = BR_mu5e2nu)"
   ]
  },
  {
   "cell_type": "code",
   "execution_count": 15,
   "metadata": {},
   "outputs": [
    {
     "name": "stdout",
     "output_type": "stream",
     "text": [
      "2.4099235467576755e-14\n",
      "2.8185156792155023e-08\n",
      "1.0782455792730287e-05\n"
     ]
    }
   ],
   "source": [
    "# Test the matrix element on a single event\n",
    "print(amp_mue2nu.get_value(m_e2nu.P_grid[0], 0.0, -1))\n",
    "print(amp_mu3e2nu.get_value(m_3e2nu.P_grid[0], 0.0, -1))\n",
    "print(amp_mu5e2nu.get_value(m_5e2nu.P_grid[0], 0.0, -1))"
   ]
  },
  {
   "attachments": {},
   "cell_type": "markdown",
   "metadata": {},
   "source": [
    "### Evaluating the matrix element squared for the list of momenta"
   ]
  },
  {
   "cell_type": "code",
   "execution_count": 16,
   "metadata": {},
   "outputs": [],
   "source": [
    "m_e2nu.amp_in_Pgrid()"
   ]
  },
  {
   "cell_type": "code",
   "execution_count": 17,
   "metadata": {},
   "outputs": [],
   "source": [
    "m_3e2nu.amp_in_Pgrid()"
   ]
  },
  {
   "cell_type": "code",
   "execution_count": 18,
   "metadata": {},
   "outputs": [],
   "source": [
    "# This may be slow depending on the number of events\n",
    "# On my laptop -- ~1.5s per 1k events\n",
    "\n",
    "m_5e2nu.amp_in_Pgrid()"
   ]
  },
  {
   "attachments": {},
   "cell_type": "markdown",
   "metadata": {},
   "source": [
    "### Some simple tests"
   ]
  },
  {
   "cell_type": "code",
   "execution_count": null,
   "metadata": {},
   "outputs": [
    {
     "name": "stdout",
     "output_type": "stream",
     "text": [
      "2.280656066777631e-09\n",
      "6.311122457969276e-10\n",
      "3.065402377766535e-08\n"
     ]
    }
   ],
   "source": [
    "# check energy conservation\n",
    "# all total energies should be equal to the parent muon mass\n",
    "\n",
    "Etot = np.sum([m_e2nu.particles[p][:,0] for p in m_e2nu.daughter_names], axis=0)\n",
    "print(np.max(np.abs(Etot - MPARENT)))\n",
    "\n",
    "Etot = np.sum([m_3e2nu.particles[p][:,0] for p in m_3e2nu.daughter_names], axis=0)\n",
    "print(np.max(np.abs(Etot - MPARENT)))\n",
    "\n",
    "Etot = np.sum([m_5e2nu.particles[p][:,0] for p in m_5e2nu.daughter_names], axis=0)\n",
    "print(np.max(np.abs(Etot - MPARENT)))"
   ]
  },
  {
   "cell_type": "code",
   "execution_count": null,
   "metadata": {},
   "outputs": [],
   "source": [
    "# Importing some functions I used in DarkNews\n",
    "from DarkNews import Cfourvec as Cfv\n",
    "from DarkNews import const\n",
    "from DarkNews import plot_tools as pt"
   ]
  },
  {
   "cell_type": "code",
   "execution_count": null,
   "metadata": {},
   "outputs": [
    {
     "data": {
      "image/png": "[encoded data removed]",
      "text/plain": [
       "<Figure size 444x377.872 with 1 Axes>"
      ]
     },
     "metadata": {},
     "output_type": "display_data"
    }
   ],
   "source": [
    "fig, ax = pt.std_fig()\n",
    "\n",
    "E_3 = m_e2nu.particles['e+_0']\n",
    "E_5 = m_3e2nu.particles['e+_0']\n",
    "E_7 = m_5e2nu.particles['e+_0']\n",
    "\n",
    "_ = ax.hist(E_3[:,0], bins=20, weights=m_e2nu.w_final, histtype='step', label=r'3 body', density=False)\n",
    "_ = ax.hist(E_5[:,0], bins=20, weights=m_3e2nu.w_final, histtype='step', label=r'5 body', density=False)\n",
    "_ = ax.hist(E_7[:,0], bins=20, weights=m_5e2nu.w_final, histtype='step', label=r'7 body', density=False)\n",
    "\n",
    "\n",
    "ax.set_xlabel(r'Primary $e+$ energy (GeV)')\n",
    "ax.set_ylabel(r'differential Br')\n",
    "ax.legend()\n",
    "ax.set_yscale('log')"
   ]
  },
  {
   "cell_type": "code",
   "execution_count": null,
   "metadata": {},
   "outputs": [
    {
     "data": {
      "image/png": "[encoded data removed]",
      "text/plain": [
       "<Figure size 444x377.872 with 1 Axes>"
      ]
     },
     "metadata": {},
     "output_type": "display_data"
    }
   ],
   "source": [
    "fig, ax = pt.std_fig()\n",
    "\n",
    "p_miss_3 = m_e2nu.particles['nu_mu_bar'] + m_e2nu.particles['nu_e'] \n",
    "p_miss_5 = m_3e2nu.particles['nu_mu_bar'] + m_3e2nu.particles['nu_e'] \n",
    "p_miss_7 = m_5e2nu.particles['nu_mu_bar'] + m_5e2nu.particles['nu_e'] \n",
    "\n",
    "_ = ax.hist(p_miss_3[:,0], bins=20, weights=m_e2nu.w_final, histtype='step', label=r'3 body', density=False)\n",
    "_ = ax.hist(p_miss_5[:,0], bins=20, weights=m_3e2nu.w_final, histtype='step', label=r'5 body', density=False)\n",
    "_ = ax.hist(p_miss_7[:,0], bins=20, weights=m_5e2nu.w_final, histtype='step', label=r'7 body', density=False)\n",
    "\n",
    "\n",
    "ax.set_xlabel(r'$E\\!\\!\\!/$ Missing energy (GeV)')\n",
    "ax.set_ylabel(r'differential Br')\n",
    "ax.legend()\n",
    "ax.set_yscale('log')"
   ]
  },
  {
   "cell_type": "code",
   "execution_count": null,
   "metadata": {},
   "outputs": [
    {
     "data": {
      "image/png": "[encoded data removed]",
      "text/plain": [
       "<Figure size 444x377.872 with 1 Axes>"
      ]
     },
     "metadata": {},
     "output_type": "display_data"
    }
   ],
   "source": [
    "fig, ax = pt.std_fig()\n",
    "\n",
    "m_miss_3 = np.sqrt(Cfv.dot4(m_e2nu.particles['nu_mu_bar'] + m_e2nu.particles['nu_e'], m_e2nu.particles['nu_mu_bar'] + m_e2nu.particles['nu_e']))\n",
    "m_miss_5 = np.sqrt(Cfv.dot4(m_3e2nu.p_parent - m_3e2nu.particles['nu_mu_bar'] - m_3e2nu.particles['nu_e'], m_3e2nu.p_parent - m_3e2nu.particles['nu_mu_bar'] - m_3e2nu.particles['nu_e']))\n",
    "m_miss_7 = np.sqrt(Cfv.dot4(m_5e2nu.p_parent - m_5e2nu.particles['nu_mu_bar'] - m_5e2nu.particles['nu_e'], m_5e2nu.p_parent - m_5e2nu.particles['nu_mu_bar'] - m_5e2nu.particles['nu_e']))\n",
    "\n",
    "# _ = ax.hist(m_miss_3, bins=20, weights=m_e2nu.w_final, histtype='step', label=r'3 body', density=False)\n",
    "_ = ax.hist(m_miss_5, bins=20, weights=m_3e2nu.w_final, histtype='step', label=r'5 body', density=False)\n",
    "_ = ax.hist(m_miss_7, bins=20, weights=m_5e2nu.w_final, histtype='step', label=r'7 body', density=False)\n",
    "\n",
    "ax.set_xlabel(r'$M_{\\rm vis}$ -- total visible mass (GeV)')\n",
    "ax.set_ylabel(r'differential Br')\n",
    "ax.legend()\n",
    "ax.set_yscale('log')"
   ]
  },
  {
   "attachments": {},
   "cell_type": "markdown",
   "metadata": {},
   "source": [
    "---\n",
    "### Some lower-level tests\n",
    "\n",
    "The weights seem ok -- there are no jumps in the 7 body decay case. I think this means we are sampling the PS broadly enough. "
   ]
  },
  {
   "cell_type": "code",
   "execution_count": null,
   "metadata": {},
   "outputs": [
    {
     "data": {
      "image/png": "[encoded data removed]",
      "text/plain": [
       "<Figure size 444x377.872 with 1 Axes>"
      ]
     },
     "metadata": {},
     "output_type": "display_data"
    }
   ],
   "source": [
    "# check the distribution of weights is reasonable\n",
    "_ = plt.hist(-np.log10(m_e2nu.w_final), bins=100, histtype='step', color='dodgerblue')\n",
    "_ = plt.hist(-np.log10(m_3e2nu.w_final), bins=100, histtype='step', color='orange')\n",
    "_ = plt.hist(-np.log10(m_5e2nu.w_final), bins=100, histtype='step', color='green')\n",
    "\n",
    "# check the distribution of weights is reasonable\n",
    "_ = plt.hist(-np.log10(m_e2nu.w_amp), bins=100, histtype='step', ls='--', color='dodgerblue')\n",
    "_ = plt.hist(-np.log10(m_3e2nu.w_amp), bins=100, histtype='step', ls='--', color='orange')\n",
    "_ = plt.hist(-np.log10(m_5e2nu.w_amp), bins=100, histtype='step', ls='--', color='green')\n",
    "\n",
    "\n",
    "plt.yscale('log')"
   ]
  },
  {
   "cell_type": "code",
   "execution_count": null,
   "metadata": {},
   "outputs": [
    {
     "data": {
      "text/plain": [
       "1.0"
      ]
     },
     "execution_count": 178,
     "metadata": {},
     "output_type": "execute_result"
    }
   ],
   "source": [
    "from math import factorial\n",
    "def phase_space_vol(M,n):\n",
    "    return 1/2 * 1/(4*np.pi)**(2*n - 3) * M**(2*n - 4)  / factorial(n - 2) / factorial(n - 1)\n",
    "PS3vol = const.m_mu**2/256/np.pi**3\n",
    "phase_space_vol(const.m_mu, 3)/PS3vol"
   ]
  },
  {
   "cell_type": "code",
   "execution_count": 8,
   "metadata": {},
   "outputs": [
    {
     "ename": "NameError",
     "evalue": "name 'phase_space_vol' is not defined",
     "output_type": "error",
     "traceback": [
      "\u001b[0;31m---------------------------------------------------------------------------\u001b[0m",
      "\u001b[0;31mNameError\u001b[0m                                 Traceback (most recent call last)",
      "Cell \u001b[0;32mIn[8], line 1\u001b[0m\n\u001b[0;32m----> 1\u001b[0m PS5vol \u001b[39m=\u001b[39m phase_space_vol(const\u001b[39m.\u001b[39mm_mu, \u001b[39m5\u001b[39m)\n\u001b[1;32m      2\u001b[0m my_pred_mu3e2nu \u001b[39m=\u001b[39m np\u001b[39m.\u001b[39msum(mu3e2nu_final_w)\u001b[39m*\u001b[39mPS5vol\u001b[39m/\u001b[39m\u001b[39m2\u001b[39m\u001b[39m/\u001b[39mconst\u001b[39m.\u001b[39mm_mu\u001b[39m/\u001b[39mnp\u001b[39m.\u001b[39msum(m_3e2nu\u001b[39m.\u001b[39mweights)\n\u001b[1;32m      3\u001b[0m my_pred_mu3e2nu\u001b[39m/\u001b[39mGamma_mu3e2nu\n",
      "\u001b[0;31mNameError\u001b[0m: name 'phase_space_vol' is not defined"
     ]
    }
   ],
   "source": [
    "PS5vol = phase_space_vol(const.m_mu, 5)\n",
    "my_pred_mu3e2nu = np.sum(mu3e2nu_final_w)*PS5vol/2/const.m_mu/np.sum(m_3e2nu.weights)\n",
    "my_pred_mu3e2nu/Gamma_mu3e2nu"
   ]
  }
 ],
 "metadata": {
  "kernelspec": {
   "display_name": "py39",
   "language": "python",
   "name": "python3"
  },
  "language_info": {
   "codemirror_mode": {
    "name": "ipython",
    "version": 3
   },
   "file_extension": ".py",
   "mimetype": "text/x-python",
   "name": "python",
   "nbconvert_exporter": "python",
   "pygments_lexer": "ipython3",
   "version": "3.9.15"
  },
  "orig_nbformat": 4
 },
 "nbformat": 4,
 "nbformat_minor": 2
}
